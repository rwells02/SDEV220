{
 "cells": [
  {
   "cell_type": "code",
   "execution_count": null,
   "id": "3ff65afd-81b7-4a14-a8f0-1d1087cb6a42",
   "metadata": {},
   "outputs": [],
   "source": [
    "from datetime import date\n",
    "\n",
    "#13.1\n",
    "with open(\"today.txt\", \"w\") as file:\n",
    "    today = date.today().isoformat()\n",
    "    file.write(today)\n",
    "\n",
    "#13.2\n",
    "with open(\"today.txt\". \"r\") as file:\n",
    "    todayString = file.read().strip()\n",
    "\n",
    "#13.3\n",
    "parsedDate = date.fromisoformat(todayString)\n",
    "\n",
    "print(\"Today's date string:\", todayString)\n",
    "print(\"Parsed date:\", parsedDate)"
   ]
  },
  {
   "cell_type": "code",
   "execution_count": 3,
   "id": "abec11f6-410a-4dca-99e8-af67d61109ec",
   "metadata": {},
   "outputs": [],
   "source": [
    "import multiprocessing\n",
    "import time\n",
    "import random\n",
    "from datetime import datetime\n",
    "\n",
    "def printTimeAfterDelay():\n",
    "    waitTime = random.uniform(0, 1)\n",
    "    time.sleep(waitTime)\n",
    "    print(f\"{multiprocessing.currentProcess().name} - Time: {datetime.now().strftime('%H:%M:%S')}\")\n",
    "\n",
    "if __name__ == '__main__':\n",
    "    processes = []\n",
    "\n",
    "    for i in range(3):\n",
    "        p = multiprocessing.Process(target=printTimeAfterDelay, name=f'Process-{i+1}')\n",
    "        processes.append(p)\n",
    "        p.start()\n",
    "\n",
    "    for p in processes:\n",
    "        p.join()\n",
    "        \n",
    "    "
   ]
  }
 ],
 "metadata": {
  "kernelspec": {
   "display_name": "Python [conda env:base] *",
   "language": "python",
   "name": "conda-base-py"
  },
  "language_info": {
   "codemirror_mode": {
    "name": "ipython",
    "version": 3
   },
   "file_extension": ".py",
   "mimetype": "text/x-python",
   "name": "python",
   "nbconvert_exporter": "python",
   "pygments_lexer": "ipython3",
   "version": "3.12.7"
  }
 },
 "nbformat": 4,
 "nbformat_minor": 5
}
