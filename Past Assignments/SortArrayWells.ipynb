{
 "cells": [
  {
   "cell_type": "code",
   "execution_count": null,
   "id": "20c68ce5-1452-4c6e-a035-b2d7dd2fbfdf",
   "metadata": {},
   "outputs": [],
   "source": [
    "#{ \n",
    " # Driver Code Starts\n",
    "\n",
    "# } Driver Code Ends\n",
    "class Solution:\n",
    "    # Function to sort an array of 0s, 1s, and 2s\n",
    "    def sort012(self, arr):\n",
    "        low, mid, high = 0, 0, len(arr) - 1\n",
    "        while mid <= high:\n",
    "            if arr[mid] == 0:\n",
    "                arr[low], arr[mid] = arr[mid], arr[low]\n",
    "                low += 1\n",
    "                mid += 1\n",
    "            elif arr[mid] == 1:\n",
    "                mid += 1\n",
    "            else:\n",
    "                arr[mid], arr[high] = arr[high], arr[mid]\n",
    "                high -= 1\n",
    "        \n",
    "\n",
    "#{ \n",
    " # Driver Code Starts.\n",
    "def main():# } Driver Code Ends\n",
    "    t = int(input().strip())  # Read the number of test cases\n",
    "    ob = Solution()\n",
    "\n",
    "    while t > 0:\n",
    "        t -= 1\n",
    "        arr = list(map(int,\n",
    "                       input().strip().split())\n",
    "                   )  # Read the array as space-separated integers\n",
    "        ob.sort012(arr)  # Sort the array\n",
    "\n",
    "        print(' '.join(map(str, arr)))  # Print the sorted array\n",
    "        print(\"~\")\n",
    "        \n",
    "if __name__ == \"__main__\":\n",
    "    main()\n",
    "\n"
   ]
  }
 ],
 "metadata": {
  "kernelspec": {
   "display_name": "Python [conda env:base] *",
   "language": "python",
   "name": "conda-base-py"
  },
  "language_info": {
   "name": ""
  }
 },
 "nbformat": 4,
 "nbformat_minor": 5
}
