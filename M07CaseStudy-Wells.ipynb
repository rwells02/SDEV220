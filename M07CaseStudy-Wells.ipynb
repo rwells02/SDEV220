{
 "cells": [
  {
   "cell_type": "code",
   "execution_count": 2,
   "id": "9b9f2921-1824-4286-8a49-178ac07d86f5",
   "metadata": {},
   "outputs": [
    {
     "name": "stdout",
     "output_type": "stream",
     "text": [
      "Requirement already satisfied: numpy in c:\\users\\rjtwe\\anaconda3\\lib\\site-packages (1.26.4)\n"
     ]
    }
   ],
   "source": [
    "!pip install numpy"
   ]
  },
  {
   "cell_type": "code",
   "execution_count": 4,
   "id": "1127253a-b5bd-4171-ba41-935490f59883",
   "metadata": {},
   "outputs": [],
   "source": [
    "import numpy as np"
   ]
  },
  {
   "cell_type": "code",
   "execution_count": 10,
   "id": "9e02d0fc-cce7-4e0d-9a57-c1867b233a39",
   "metadata": {},
   "outputs": [
    {
     "data": {
      "text/plain": [
       "array([[[0.63073836, 0.73568876, 0.2236113 , 0.51724737],\n",
       "        [0.48788192, 0.85654494, 0.06496224, 0.71598971],\n",
       "        [0.09321683, 0.48017284, 0.93660609, 0.70916962]],\n",
       "\n",
       "       [[0.59490722, 0.59765232, 0.27610321, 0.41815835],\n",
       "        [0.94809409, 0.24160136, 0.65200922, 0.25020372],\n",
       "        [0.99398069, 0.14750155, 0.09718533, 0.82909488]]])"
      ]
     },
     "execution_count": 10,
     "metadata": {},
     "output_type": "execute_result"
    }
   ],
   "source": [
    "data = np.random.rand(2,3,4)\n",
    "zeroes = np.zeros((2,2,2,))\n",
    "full = np.full((2,2,2), 7)\n",
    "ones = np.ones((2,2,2))\n",
    "\n",
    "data"
   ]
  },
  {
   "cell_type": "code",
   "execution_count": 12,
   "id": "d970de53-2508-42fe-9084-121e4a2d31c6",
   "metadata": {},
   "outputs": [
    {
     "data": {
      "text/plain": [
       "array([[[0., 0.],\n",
       "        [0., 0.]],\n",
       "\n",
       "       [[0., 0.],\n",
       "        [0., 0.]]])"
      ]
     },
     "execution_count": 12,
     "metadata": {},
     "output_type": "execute_result"
    }
   ],
   "source": [
    "zeroes"
   ]
  },
  {
   "cell_type": "code",
   "execution_count": 14,
   "id": "853cab6e-8c76-4a3a-bd5d-5c46c267365f",
   "metadata": {},
   "outputs": [
    {
     "data": {
      "text/plain": [
       "array([[[7, 7],\n",
       "        [7, 7]],\n",
       "\n",
       "       [[7, 7],\n",
       "        [7, 7]]])"
      ]
     },
     "execution_count": 14,
     "metadata": {},
     "output_type": "execute_result"
    }
   ],
   "source": [
    "full"
   ]
  },
  {
   "cell_type": "code",
   "execution_count": 16,
   "id": "98614ba2-5b61-49cd-b32d-017db6a1cfe6",
   "metadata": {},
   "outputs": [
    {
     "data": {
      "text/plain": [
       "array([[[1., 1.],\n",
       "        [1., 1.]],\n",
       "\n",
       "       [[1., 1.],\n",
       "        [1., 1.]]])"
      ]
     },
     "execution_count": 16,
     "metadata": {},
     "output_type": "execute_result"
    }
   ],
   "source": [
    "ones"
   ]
  },
  {
   "cell_type": "code",
   "execution_count": 35,
   "id": "f6c3d344-d40a-44c4-be4b-462f05ced748",
   "metadata": {},
   "outputs": [
    {
     "data": {
      "text/plain": [
       "numpy.ndarray"
      ]
     },
     "execution_count": 35,
     "metadata": {},
     "output_type": "execute_result"
    }
   ],
   "source": [
    "arr = np.array([[1,2,3,4,],[1,2,3,4]])\n",
    "type(arr)"
   ]
  },
  {
   "cell_type": "code",
   "execution_count": 37,
   "id": "297d7c6b-cd3f-4c2b-a746-84990198fe59",
   "metadata": {},
   "outputs": [],
   "source": [
    "#Attributes\n",
    "shape = data.shape\n",
    "size = data.size\n",
    "types = data.dtype"
   ]
  },
  {
   "cell_type": "code",
   "execution_count": 39,
   "id": "1071092d-2be6-40c2-843f-debf757b0654",
   "metadata": {},
   "outputs": [
    {
     "data": {
      "text/plain": [
       "(2, 3, 4)"
      ]
     },
     "execution_count": 39,
     "metadata": {},
     "output_type": "execute_result"
    }
   ],
   "source": [
    "shape"
   ]
  },
  {
   "cell_type": "code",
   "execution_count": 41,
   "id": "78b73c4e-2c65-41b0-86d0-b3acd4f9ef70",
   "metadata": {},
   "outputs": [
    {
     "data": {
      "text/plain": [
       "24"
      ]
     },
     "execution_count": 41,
     "metadata": {},
     "output_type": "execute_result"
    }
   ],
   "source": [
    "size"
   ]
  },
  {
   "cell_type": "code",
   "execution_count": 43,
   "id": "fbbd1a8c-ce62-45bd-8c9a-b2f3bb8376c8",
   "metadata": {},
   "outputs": [
    {
     "data": {
      "text/plain": [
       "dtype('float64')"
      ]
     },
     "execution_count": 43,
     "metadata": {},
     "output_type": "execute_result"
    }
   ],
   "source": [
    "types"
   ]
  },
  {
   "cell_type": "code",
   "execution_count": 45,
   "id": "0b8e7a7d-98b7-429a-84bf-762733e3a949",
   "metadata": {},
   "outputs": [],
   "source": [
    "#Sclicing \n",
    "arr = data[0]\n",
    "slicer = data[0:2]\n",
    "reverse = data[-1]\n",
    "singlevel = data[0][0][0]"
   ]
  },
  {
   "cell_type": "code",
   "execution_count": 47,
   "id": "217f2b6e-b560-4a3d-8355-4c0e09e9347f",
   "metadata": {},
   "outputs": [
    {
     "data": {
      "text/plain": [
       "array([[0.63073836, 0.73568876, 0.2236113 , 0.51724737],\n",
       "       [0.48788192, 0.85654494, 0.06496224, 0.71598971],\n",
       "       [0.09321683, 0.48017284, 0.93660609, 0.70916962]])"
      ]
     },
     "execution_count": 47,
     "metadata": {},
     "output_type": "execute_result"
    }
   ],
   "source": [
    "arr"
   ]
  },
  {
   "cell_type": "code",
   "execution_count": 49,
   "id": "6b4d2134-ba3b-4fef-bb56-0eb15e86ad90",
   "metadata": {},
   "outputs": [
    {
     "data": {
      "text/plain": [
       "array([[[0.63073836, 0.73568876, 0.2236113 , 0.51724737],\n",
       "        [0.48788192, 0.85654494, 0.06496224, 0.71598971],\n",
       "        [0.09321683, 0.48017284, 0.93660609, 0.70916962]],\n",
       "\n",
       "       [[0.59490722, 0.59765232, 0.27610321, 0.41815835],\n",
       "        [0.94809409, 0.24160136, 0.65200922, 0.25020372],\n",
       "        [0.99398069, 0.14750155, 0.09718533, 0.82909488]]])"
      ]
     },
     "execution_count": 49,
     "metadata": {},
     "output_type": "execute_result"
    }
   ],
   "source": [
    "slicer"
   ]
  },
  {
   "cell_type": "code",
   "execution_count": 51,
   "id": "9b243019-2032-43fb-a3c0-ea3b918fb896",
   "metadata": {},
   "outputs": [
    {
     "data": {
      "text/plain": [
       "array([[0.59490722, 0.59765232, 0.27610321, 0.41815835],\n",
       "       [0.94809409, 0.24160136, 0.65200922, 0.25020372],\n",
       "       [0.99398069, 0.14750155, 0.09718533, 0.82909488]])"
      ]
     },
     "execution_count": 51,
     "metadata": {},
     "output_type": "execute_result"
    }
   ],
   "source": [
    "reverse"
   ]
  },
  {
   "cell_type": "code",
   "execution_count": 53,
   "id": "9836cf70-5d9c-4524-ac82-104643755076",
   "metadata": {},
   "outputs": [
    {
     "data": {
      "text/plain": [
       "0.6307383554275978"
      ]
     },
     "execution_count": 53,
     "metadata": {},
     "output_type": "execute_result"
    }
   ],
   "source": [
    "singlevel"
   ]
  },
  {
   "cell_type": "code",
   "execution_count": 55,
   "id": "237cbbc9-90a3-4e04-af2d-2fa82223abad",
   "metadata": {},
   "outputs": [
    {
     "data": {
      "text/plain": [
       "array([[[0.63073836, 0.73568876, 0.2236113 , 0.51724737],\n",
       "        [0.48788192, 0.85654494, 0.06496224, 0.71598971],\n",
       "        [0.09321683, 0.48017284, 0.93660609, 0.70916962]],\n",
       "\n",
       "       [[0.59490722, 0.59765232, 0.27610321, 0.41815835],\n",
       "        [0.94809409, 0.24160136, 0.65200922, 0.25020372],\n",
       "        [0.99398069, 0.14750155, 0.09718533, 0.82909488]]])"
      ]
     },
     "execution_count": 55,
     "metadata": {},
     "output_type": "execute_result"
    }
   ],
   "source": [
    "data"
   ]
  },
  {
   "cell_type": "code",
   "execution_count": 57,
   "id": "6939942f-2ff8-4738-8eb1-b808d7b14242",
   "metadata": {},
   "outputs": [],
   "source": [
    "list1 = np.random.rand(10)\n",
    "list2 = np.random.rand(10)"
   ]
  },
  {
   "cell_type": "code",
   "execution_count": 59,
   "id": "3da1ae02-de84-4f61-a911-c23802f9e0f2",
   "metadata": {},
   "outputs": [
    {
     "data": {
      "text/plain": [
       "array([0.54496957, 0.10951829, 0.07885906, 0.76572763, 0.46349287,\n",
       "       0.34437118, 0.37501879, 0.96250348, 0.58642859, 0.84951697])"
      ]
     },
     "execution_count": 59,
     "metadata": {},
     "output_type": "execute_result"
    }
   ],
   "source": [
    "list1"
   ]
  },
  {
   "cell_type": "code",
   "execution_count": 61,
   "id": "7c184aa0-e2fc-4c9e-967e-a248b9e5fe87",
   "metadata": {},
   "outputs": [
    {
     "data": {
      "text/plain": [
       "array([0.02946455, 0.238268  , 0.18089664, 0.53571205, 0.88206224,\n",
       "       0.2306156 , 0.69830561, 0.32109008, 0.10615402, 0.78883775])"
      ]
     },
     "execution_count": 61,
     "metadata": {},
     "output_type": "execute_result"
    }
   ],
   "source": [
    "list2"
   ]
  },
  {
   "cell_type": "code",
   "execution_count": 63,
   "id": "8ce9138e-c76d-4cf6-8da1-b2f757e8cd63",
   "metadata": {},
   "outputs": [],
   "source": [
    "#Basic Math\n",
    "add = np.add(list1, list2)\n",
    "sub = np.subtract(list1, list2)\n",
    "div = np.divide(list1, list2)\n",
    "mult = np.multiply(list1, list2)\n",
    "dot = np.dot(list1, list2)"
   ]
  },
  {
   "cell_type": "code",
   "execution_count": 65,
   "id": "cde3bc6c-1fe6-4012-92c7-668838444b62",
   "metadata": {},
   "outputs": [
    {
     "data": {
      "text/plain": [
       "array([0.57443412, 0.34778629, 0.25975569, 1.30143968, 1.34555511,\n",
       "       0.57498678, 1.0733244 , 1.28359356, 0.69258261, 1.63835472])"
      ]
     },
     "execution_count": 65,
     "metadata": {},
     "output_type": "execute_result"
    }
   ],
   "source": [
    "add"
   ]
  },
  {
   "cell_type": "code",
   "execution_count": 67,
   "id": "b21407ff-401e-46a5-8ce6-9a8a6c843f3b",
   "metadata": {},
   "outputs": [
    {
     "data": {
      "text/plain": [
       "array([ 0.51550502, -0.1287497 , -0.10203758,  0.23001558, -0.41856937,\n",
       "        0.11375558, -0.32328683,  0.6414134 ,  0.48027456,  0.06067922])"
      ]
     },
     "execution_count": 67,
     "metadata": {},
     "output_type": "execute_result"
    }
   ],
   "source": [
    "sub"
   ]
  },
  {
   "cell_type": "code",
   "execution_count": 69,
   "id": "7a4e30dc-8101-4812-96c3-fdce44720b48",
   "metadata": {},
   "outputs": [
    {
     "data": {
      "text/plain": [
       "array([18.49577198,  0.45964332,  0.43593434,  1.4293642 ,  0.52546504,\n",
       "        1.49326923,  0.53704106,  2.99761201,  5.52431806,  1.0769223 ])"
      ]
     },
     "execution_count": 69,
     "metadata": {},
     "output_type": "execute_result"
    }
   ],
   "source": [
    "div"
   ]
  },
  {
   "cell_type": "code",
   "execution_count": 71,
   "id": "ec31bf7c-1d34-491b-854d-7deea8d2642d",
   "metadata": {},
   "outputs": [
    {
     "data": {
      "text/plain": [
       "array([0.01605728, 0.0260947 , 0.01426534, 0.41020952, 0.40882956,\n",
       "       0.07941737, 0.26187772, 0.30905032, 0.06225175, 0.67013106])"
      ]
     },
     "execution_count": 71,
     "metadata": {},
     "output_type": "execute_result"
    }
   ],
   "source": [
    "mult"
   ]
  },
  {
   "cell_type": "code",
   "execution_count": 73,
   "id": "14b5fca0-24d6-4f3c-9e70-01c4447a8ee7",
   "metadata": {},
   "outputs": [
    {
     "data": {
      "text/plain": [
       "2.258184623758159"
      ]
     },
     "execution_count": 73,
     "metadata": {},
     "output_type": "execute_result"
    }
   ],
   "source": [
    "dot"
   ]
  },
  {
   "cell_type": "code",
   "execution_count": 75,
   "id": "ce5921a3-8b3f-448e-8a90-0581854a410a",
   "metadata": {},
   "outputs": [],
   "source": [
    "#Stat functions\n",
    "sqrt = np.sqrt(25)\n",
    "ab = np.abs(-2)\n",
    "power = np.power(2,7)\n",
    "log = np.log(25)\n",
    "exp = np.exp([2,3])\n",
    "mins = np.min(list1)\n",
    "maxs = np.max(list1)"
   ]
  },
  {
   "cell_type": "code",
   "execution_count": 77,
   "id": "a9ae0fec-67b3-4579-a794-0c335c9c037a",
   "metadata": {},
   "outputs": [
    {
     "data": {
      "text/plain": [
       "5.0"
      ]
     },
     "execution_count": 77,
     "metadata": {},
     "output_type": "execute_result"
    }
   ],
   "source": [
    "sqrt"
   ]
  },
  {
   "cell_type": "code",
   "execution_count": 79,
   "id": "c6b93fda-f249-4590-bc7a-4a5397ce9101",
   "metadata": {},
   "outputs": [
    {
     "data": {
      "text/plain": [
       "2"
      ]
     },
     "execution_count": 79,
     "metadata": {},
     "output_type": "execute_result"
    }
   ],
   "source": [
    "ab"
   ]
  },
  {
   "cell_type": "code",
   "execution_count": 81,
   "id": "989754f8-0199-4008-8702-454232982027",
   "metadata": {},
   "outputs": [
    {
     "data": {
      "text/plain": [
       "128"
      ]
     },
     "execution_count": 81,
     "metadata": {},
     "output_type": "execute_result"
    }
   ],
   "source": [
    "power"
   ]
  },
  {
   "cell_type": "code",
   "execution_count": 83,
   "id": "05f65923-f086-418a-9511-e273eab348d9",
   "metadata": {},
   "outputs": [
    {
     "data": {
      "text/plain": [
       "3.2188758248682006"
      ]
     },
     "execution_count": 83,
     "metadata": {},
     "output_type": "execute_result"
    }
   ],
   "source": [
    "log"
   ]
  },
  {
   "cell_type": "code",
   "execution_count": 85,
   "id": "25e9f5a8-6040-41ba-a922-8f9ba3f57163",
   "metadata": {},
   "outputs": [
    {
     "data": {
      "text/plain": [
       "array([ 7.3890561 , 20.08553692])"
      ]
     },
     "execution_count": 85,
     "metadata": {},
     "output_type": "execute_result"
    }
   ],
   "source": [
    "exp"
   ]
  },
  {
   "cell_type": "code",
   "execution_count": 87,
   "id": "bd423fd8-8338-41d0-a023-652e06c945aa",
   "metadata": {},
   "outputs": [
    {
     "data": {
      "text/plain": [
       "0.07885905609261679"
      ]
     },
     "execution_count": 87,
     "metadata": {},
     "output_type": "execute_result"
    }
   ],
   "source": [
    "mins"
   ]
  },
  {
   "cell_type": "code",
   "execution_count": 89,
   "id": "6653026c-a342-4412-9740-5046ff188fb3",
   "metadata": {},
   "outputs": [
    {
     "data": {
      "text/plain": [
       "0.962503481143538"
      ]
     },
     "execution_count": 89,
     "metadata": {},
     "output_type": "execute_result"
    }
   ],
   "source": [
    "maxs"
   ]
  },
  {
   "cell_type": "code",
   "execution_count": 91,
   "id": "91089ef2-0122-4ee0-bc17-13dc8f0a04dd",
   "metadata": {},
   "outputs": [
    {
     "data": {
      "text/plain": [
       "array([[[0.63073836, 0.73568876, 0.2236113 , 0.51724737],\n",
       "        [0.48788192, 0.85654494, 0.06496224, 0.71598971],\n",
       "        [0.09321683, 0.48017284, 0.93660609, 0.70916962]],\n",
       "\n",
       "       [[0.59490722, 0.59765232, 0.27610321, 0.41815835],\n",
       "        [0.94809409, 0.24160136, 0.65200922, 0.25020372],\n",
       "        [0.99398069, 0.14750155, 0.09718533, 0.82909488]]])"
      ]
     },
     "execution_count": 91,
     "metadata": {},
     "output_type": "execute_result"
    }
   ],
   "source": [
    "data"
   ]
  },
  {
   "cell_type": "code",
   "execution_count": 93,
   "id": "64ae3ebb-a466-455d-aa1e-a17f054fed4f",
   "metadata": {},
   "outputs": [],
   "source": [
    "data[0][0][0] = 700"
   ]
  },
  {
   "cell_type": "code",
   "execution_count": 95,
   "id": "413de14b-7ad0-4e32-8699-d0a66235785f",
   "metadata": {},
   "outputs": [
    {
     "data": {
      "text/plain": [
       "array([[[7.00000000e+02, 7.35688761e-01, 2.23611301e-01, 5.17247373e-01],\n",
       "        [4.87881921e-01, 8.56544943e-01, 6.49622403e-02, 7.15989715e-01],\n",
       "        [9.32168313e-02, 4.80172839e-01, 9.36606087e-01, 7.09169621e-01]],\n",
       "\n",
       "       [[5.94907217e-01, 5.97652318e-01, 2.76103207e-01, 4.18158355e-01],\n",
       "        [9.48094092e-01, 2.41601355e-01, 6.52009224e-01, 2.50203718e-01],\n",
       "        [9.93980686e-01, 1.47501547e-01, 9.71853339e-02, 8.29094885e-01]]])"
      ]
     },
     "execution_count": 95,
     "metadata": {},
     "output_type": "execute_result"
    }
   ],
   "source": [
    "data"
   ]
  },
  {
   "cell_type": "code",
   "execution_count": 97,
   "id": "59153b3c-ac37-488a-b7f8-aa813f14d7ce",
   "metadata": {},
   "outputs": [
    {
     "data": {
      "text/plain": [
       "array([[[2.23611301e-01, 5.17247373e-01, 7.35688761e-01, 7.00000000e+02],\n",
       "        [6.49622403e-02, 4.87881921e-01, 7.15989715e-01, 8.56544943e-01],\n",
       "        [9.32168313e-02, 4.80172839e-01, 7.09169621e-01, 9.36606087e-01]],\n",
       "\n",
       "       [[2.76103207e-01, 4.18158355e-01, 5.94907217e-01, 5.97652318e-01],\n",
       "        [2.41601355e-01, 2.50203718e-01, 6.52009224e-01, 9.48094092e-01],\n",
       "        [9.71853339e-02, 1.47501547e-01, 8.29094885e-01, 9.93980686e-01]]])"
      ]
     },
     "execution_count": 97,
     "metadata": {},
     "output_type": "execute_result"
    }
   ],
   "source": [
    "data.sort()\n",
    "data"
   ]
  },
  {
   "cell_type": "code",
   "execution_count": 99,
   "id": "c330534c-e6e2-462e-aea0-79dcd3e0d523",
   "metadata": {},
   "outputs": [
    {
     "name": "stdout",
     "output_type": "stream",
     "text": [
      "(2, 3, 4)\n"
     ]
    }
   ],
   "source": [
    "print(data.shape)"
   ]
  },
  {
   "cell_type": "code",
   "execution_count": 101,
   "id": "1798fc02-b829-4a38-9ead-d739ca1da359",
   "metadata": {},
   "outputs": [
    {
     "data": {
      "text/plain": [
       "(2, 2, 6)"
      ]
     },
     "execution_count": 101,
     "metadata": {},
     "output_type": "execute_result"
    }
   ],
   "source": [
    "data = data.reshape((2,2,-1))\n",
    "data.shape"
   ]
  },
  {
   "cell_type": "code",
   "execution_count": 105,
   "id": "18ec1974-1a09-4058-9204-1fc244fbde6b",
   "metadata": {},
   "outputs": [
    {
     "name": "stdout",
     "output_type": "stream",
     "text": [
      "[0. 0. 0. 0. 0. 0. 0. 0.]\n",
      "[0. 0. 0. 0. 0. 0. 0. 0. 3. 4.]\n"
     ]
    }
   ],
   "source": [
    "zeroes = np.zeros((8))\n",
    "print(zeroes)\n",
    "zeroes = np.append(zeroes, [3,4])\n",
    "print(zeroes)"
   ]
  },
  {
   "cell_type": "code",
   "execution_count": 107,
   "id": "0dd51eb6-eb4a-4857-a9f0-0e890a8b0443",
   "metadata": {},
   "outputs": [
    {
     "name": "stdout",
     "output_type": "stream",
     "text": [
      "[0. 0. 1. 0. 0. 0. 0. 0. 0. 3. 4.]\n"
     ]
    }
   ],
   "source": [
    "zeroes = np.insert(zeroes, 2, 1)\n",
    "print(zeroes)"
   ]
  },
  {
   "cell_type": "code",
   "execution_count": 109,
   "id": "4aabf1f9-79ae-4b2d-8dd3-351debaa2e08",
   "metadata": {},
   "outputs": [
    {
     "data": {
      "text/plain": [
       "array([[[2.23611301e-01, 5.17247373e-01, 7.35688761e-01, 7.00000000e+02,\n",
       "         6.49622403e-02, 4.87881921e-01],\n",
       "        [7.15989715e-01, 8.56544943e-01, 9.32168313e-02, 4.80172839e-01,\n",
       "         7.09169621e-01, 9.36606087e-01]],\n",
       "\n",
       "       [[2.76103207e-01, 4.18158355e-01, 5.94907217e-01, 5.97652318e-01,\n",
       "         2.41601355e-01, 2.50203718e-01],\n",
       "        [6.52009224e-01, 9.48094092e-01, 9.71853339e-02, 1.47501547e-01,\n",
       "         8.29094885e-01, 9.93980686e-01]]])"
      ]
     },
     "execution_count": 109,
     "metadata": {},
     "output_type": "execute_result"
    }
   ],
   "source": [
    "data"
   ]
  },
  {
   "cell_type": "code",
   "execution_count": 111,
   "id": "740185cc-8aa3-4141-9dcf-ada3660d57a8",
   "metadata": {},
   "outputs": [
    {
     "data": {
      "text/plain": [
       "array([[[0.71598971, 0.85654494, 0.09321683, 0.48017284, 0.70916962,\n",
       "         0.93660609]],\n",
       "\n",
       "       [[0.65200922, 0.94809409, 0.09718533, 0.14750155, 0.82909488,\n",
       "         0.99398069]]])"
      ]
     },
     "execution_count": 111,
     "metadata": {},
     "output_type": "execute_result"
    }
   ],
   "source": [
    "np.delete(data, 0, axis=1)"
   ]
  },
  {
   "cell_type": "code",
   "execution_count": 113,
   "id": "ed894a9e-8d8a-4518-bb06-0d209c8419e8",
   "metadata": {},
   "outputs": [],
   "source": [
    "np.save('new array', data)"
   ]
  },
  {
   "cell_type": "code",
   "execution_count": null,
   "id": "581716aa-d8bb-4a87-98f2-99e7f6938527",
   "metadata": {},
   "outputs": [],
   "source": [
    "test = np.load('new arr"
   ]
  }
 ],
 "metadata": {
  "kernelspec": {
   "display_name": "Python [conda env:base] *",
   "language": "python",
   "name": "conda-base-py"
  },
  "language_info": {
   "codemirror_mode": {
    "name": "ipython",
    "version": 3
   },
   "file_extension": ".py",
   "mimetype": "text/x-python",
   "name": "python",
   "nbconvert_exporter": "python",
   "pygments_lexer": "ipython3",
   "version": "3.12.7"
  }
 },
 "nbformat": 4,
 "nbformat_minor": 5
}
